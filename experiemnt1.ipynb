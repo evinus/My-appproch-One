{
 "cells": [
  {
   "cell_type": "code",
   "execution_count": null,
   "source": [
    "import cv2\r\n",
    "bild = cv2.imread(\"data\\ped2//training//frames//01//000.jpg\")\r\n",
    "bild2 = cv2.imread(\"data\\ped2//training//frames//01//001.jpg\")\r\n",
    "import numpy as np\r\n",
    "\r\n",
    "lista = list()\r\n",
    "lista.append(bild)\r\n",
    "lista.append(bild2)\r\n",
    "\r\n",
    "lista = np.array(lista)"
   ],
   "outputs": [],
   "metadata": {}
  },
  {
   "cell_type": "code",
   "execution_count": 7,
   "source": [
    "import cv2\r\n",
    "import os\r\n",
    "import numpy as np\r\n",
    "bilder = list()\r\n",
    "for folder in os.listdir(\"data\\ped2//testing//frames\"):\r\n",
    "    path = os.path.join(\"data\\ped2//testing//frames\",folder)\r\n",
    "    for img in os.listdir(path):\r\n",
    "        bild = os.path.join(path,img)\r\n",
    "        #bilder.append(cv2.imread(bild))\r\n",
    "        bilder.append(bild)\r\n",
    "\r\n",
    "#bilder = np.array(bilder)\r\n",
    "    "
   ],
   "outputs": [],
   "metadata": {}
  },
  {
   "cell_type": "code",
   "execution_count": 2,
   "source": [
    "labels = np.load(\"data/frame_labels_ped2_2.npy\")\r\n",
    "#labels = np.reshape(labels,labels.shape[1])"
   ],
   "outputs": [
    {
     "output_type": "error",
     "ename": "IndexError",
     "evalue": "tuple index out of range",
     "traceback": [
      "\u001b[1;31m---------------------------------------------------------------------------\u001b[0m",
      "\u001b[1;31mIndexError\u001b[0m                                Traceback (most recent call last)",
      "\u001b[1;32m<ipython-input-2-558fd41744cd>\u001b[0m in \u001b[0;36m<module>\u001b[1;34m\u001b[0m\n\u001b[0;32m      1\u001b[0m \u001b[0mlabels\u001b[0m \u001b[1;33m=\u001b[0m \u001b[0mnp\u001b[0m\u001b[1;33m.\u001b[0m\u001b[0mload\u001b[0m\u001b[1;33m(\u001b[0m\u001b[1;34m\"data/frame_labels_ped2_2.npy\"\u001b[0m\u001b[1;33m)\u001b[0m\u001b[1;33m\u001b[0m\u001b[1;33m\u001b[0m\u001b[0m\n\u001b[1;32m----> 2\u001b[1;33m \u001b[0mlabels\u001b[0m \u001b[1;33m=\u001b[0m \u001b[0mnp\u001b[0m\u001b[1;33m.\u001b[0m\u001b[0mreshape\u001b[0m\u001b[1;33m(\u001b[0m\u001b[0mlabels\u001b[0m\u001b[1;33m,\u001b[0m\u001b[0mlabels\u001b[0m\u001b[1;33m.\u001b[0m\u001b[0mshape\u001b[0m\u001b[1;33m[\u001b[0m\u001b[1;36m1\u001b[0m\u001b[1;33m]\u001b[0m\u001b[1;33m)\u001b[0m\u001b[1;33m\u001b[0m\u001b[1;33m\u001b[0m\u001b[0m\n\u001b[0m",
      "\u001b[1;31mIndexError\u001b[0m: tuple index out of range"
     ]
    }
   ],
   "metadata": {}
  },
  {
   "cell_type": "code",
   "execution_count": 11,
   "source": [
    "import pandas as pd\r\n",
    "fjant = pd.DataFrame(data={\"x_col\":bilder,\"y_col\":labels})#columns=([\"x_col\",\"y_col\"]))\r\n",
    "fjant[\"y_col\"] = fjant[\"y_col\"].astype(str)"
   ],
   "outputs": [],
   "metadata": {}
  },
  {
   "cell_type": "code",
   "execution_count": 15,
   "source": [
    "from keras_preprocessing.image import ImageDataGenerator\r\n",
    "\r\n",
    "dataget = ImageDataGenerator(rescale=1. / 255)\r\n",
    "train_get = dataget.flow_from_dataframe(dataframe=fjant,x_col=\"x_col\",y_col=\"y_col\",class_mode=\"sparse\",target_size=(360,240),batch_size=64)"
   ],
   "outputs": [
    {
     "output_type": "stream",
     "name": "stdout",
     "text": [
      "Found 3390 validated image filenames belonging to 2 classes.\n"
     ]
    }
   ],
   "metadata": {}
  },
  {
   "cell_type": "markdown",
   "source": [
    "__________________________"
   ],
   "metadata": {}
  },
  {
   "cell_type": "code",
   "execution_count": 14,
   "source": [
    "from sklearn.model_selection import train_test_split\r\n",
    "X_train, X_test, Y_train, Y_test = train_test_split(bilder,nylabels,test_size=0.2, random_state= 100)"
   ],
   "outputs": [],
   "metadata": {}
  },
  {
   "cell_type": "code",
   "execution_count": 16,
   "source": [
    "noll = 0\r\n",
    "ett = 0\r\n",
    "for x in Y_train:\r\n",
    "    if x == 0:\r\n",
    "        noll += 1\r\n",
    "    else:\r\n",
    "        ett +=1\r\n",
    "print(\"Noll: \",noll)\r\n",
    "print(\"Ett: \",ett)"
   ],
   "outputs": [
    {
     "output_type": "stream",
     "name": "stdout",
     "text": [
      "Noll:  1403\n",
      "Ett:  1309\n"
     ]
    }
   ],
   "metadata": {}
  },
  {
   "cell_type": "code",
   "execution_count": 12,
   "source": [
    "#nylabels = np.concatenate((labels,nollor))\r\n",
    "np.save(\"data/frame_labels_ped2_2.npy\",nylabels)"
   ],
   "outputs": [],
   "metadata": {}
  },
  {
   "cell_type": "code",
   "execution_count": null,
   "source": [
    "bilder = bilder.reshape(bilder.shape[0],bilder.shape[1],bilder.shape[2],bilder.shape[3],1)"
   ],
   "outputs": [],
   "metadata": {}
  },
  {
   "cell_type": "code",
   "execution_count": null,
   "source": [
    "from sklearn.preprocessing import MinMaxScaler\r\n",
    "scaler = MinMaxScaler()\r\n",
    "bilder = scaler.fit_transform(bilder)"
   ],
   "outputs": [],
   "metadata": {}
  },
  {
   "cell_type": "code",
   "execution_count": null,
   "source": [
    "output = np.full((2550,1),0)"
   ],
   "outputs": [],
   "metadata": {}
  },
  {
   "cell_type": "code",
   "execution_count": null,
   "source": [
    "ett = bilder[0,:,:,:]"
   ],
   "outputs": [],
   "metadata": {}
  },
  {
   "cell_type": "code",
   "execution_count": null,
   "source": [
    "import tensorflow.keras as keras\r\n",
    "batch_size = 4\r\n",
    "model = keras.Sequential()\r\n",
    "inputs = keras.Input((240, 360, 3, 1))\r\n",
    "#model.add(keras.layers.Conv3D(input_shape = ,activation=\"relu\",filters=64,kernel_size=3,padding=\"same\"))\r\n",
    "model.add(keras.layers.Conv3D(activation=\"relu\",filters=64,kernel_size=3,padding=\"same\"))(inputs)\r\n",
    "model.add(keras.layers.MaxPooling3D(pool_size=(2,2,1)))\r\n",
    "model.add(keras.layers.BatchNormalization())\r\n",
    "\r\n",
    "model.add(keras.layers.Conv3D(activation=\"relu\",filters=64,kernel_size=3,padding=\"same\"))\r\n",
    "model.add(keras.layers.MaxPooling3D(pool_size=(2,2,1)))\r\n",
    "\r\n",
    "model.add(keras.layers.Conv3D(activation=\"relu\",filters=128,kernel_size=3,padding=\"same\"))\r\n",
    "model.add(keras.layers.MaxPooling3D(pool_size=(2,2,1)))\r\n",
    "\r\n",
    "model.add(keras.layers.Flatten())\r\n",
    "model.add(keras.layers.Dense(128,activation=\"relu\"))\r\n",
    "model.add(keras.layers.Dense(64,activation=\"relu\"))\r\n",
    "model.add(keras.layers.Dense(10,activation=\"relu\"))\r\n",
    "model.add(keras.layers.Dense(1,activation=\"sigmoid\"))\r\n",
    "\r\n",
    "model.compile(optimizer=\"adam\",metrics=keras.metrics.categorical_crossentropy)\r\n",
    "model.summary()"
   ],
   "outputs": [],
   "metadata": {}
  },
  {
   "cell_type": "code",
   "execution_count": null,
   "source": [
    "model = keras.Sequential()\r\n",
    "\r\n",
    "model.add(keras.layers.Conv3D(input_shape =(240, 360, 3, 1),activation=\"relu\",filters=64,kernel_size=3,padding=\"same\"))\r\n",
    "model.add(keras.layers.MaxPooling3D(pool_size=(2,2,1)))\r\n",
    "model.add(keras.layers.BatchNormalization())\r\n",
    "\r\n",
    "model.add(keras.layers.Conv3D(activation=\"relu\",filters=128,kernel_size=3,padding=\"same\"))\r\n",
    "model.add(keras.layers.MaxPooling3D(pool_size=(2,2,1)))\r\n",
    "\r\n",
    "model.add(keras.layers.Conv3D(activation=\"relu\",filters=128,kernel_size=2,padding=\"same\"))\r\n",
    "model.add(keras.layers.MaxPooling3D(pool_size=(2,2,1)))\r\n",
    "model.add(keras.layers.Dense(64,activation=\"relu\"))\r\n",
    "#model.add(keras.layers.GlobalAveragePooling3D())\r\n",
    "model.add(keras.layers.Flatten())\r\n",
    "model.add(keras.layers.Dense(256,activation=\"relu\"))\r\n",
    "model.add(keras.layers.Dense(64,activation=\"relu\"))\r\n",
    "model.add(keras.layers.Dense(10,activation=\"relu\"))\r\n",
    "model.add(keras.layers.Dense(1,activation=\"sigmoid\"))"
   ],
   "outputs": [],
   "metadata": {}
  },
  {
   "cell_type": "code",
   "execution_count": null,
   "source": [
    "import numpy as np\r\n",
    "labels = np.load(\"data/frame_labels_ped2.npy\")\r\n",
    "\r\n",
    "labels = np.reshape(labels,2010)"
   ],
   "outputs": [],
   "metadata": {}
  },
  {
   "cell_type": "code",
   "execution_count": null,
   "source": [
    "from tensorflow.keras.layers import Dense,Conv3D,MaxPooling3D,BatchNormalization,Flatten,Input, Add\r\n",
    "from tensorflow.keras.models import Model\r\n",
    "input = Input((240,360,3,1))\r\n",
    "\r\n",
    "x = Conv3D(64,3,padding=\"same\")(input)\r\n",
    "x = MaxPooling3D(pool_size=(3,3,3))(x)\r\n",
    "x = Flatten()(x)\r\n",
    "x = Dense(128)(x)\r\n",
    "\r\n",
    "#y = Dense(128)(input)\r\n",
    "y = Flatten()(input)\r\n",
    "y = Dense(128)(y)\r\n",
    "y = Dense(128)(y)\r\n",
    "x = Add()([x,y])\r\n",
    "x = Dense(10)(x)\r\n",
    "x = Dense(1)(x)\r\n",
    "\r\n",
    "model = Model(inputs = input,outputs = x)\r\n",
    "model.compile()\r\n",
    "model.summary()\r\n",
    "from tensorflow.keras.utils import plot_model\r\n",
    "plot_model(model,show_shapes=True)\r\n"
   ],
   "outputs": [
    {
     "output_type": "error",
     "ename": "Error",
     "evalue": "Session cannot generate requests",
     "traceback": [
      "Error: Session cannot generate requests",
      "at w.executeCodeCell (c:\\Users\\tenol\\.vscode\\extensions\\ms-toolsai.jupyter-2021.8.1195043623\\out\\client\\extension.js:90:325139)",
      "at w.execute (c:\\Users\\tenol\\.vscode\\extensions\\ms-toolsai.jupyter-2021.8.1195043623\\out\\client\\extension.js:90:324460)",
      "at w.start (c:\\Users\\tenol\\.vscode\\extensions\\ms-toolsai.jupyter-2021.8.1195043623\\out\\client\\extension.js:90:320276)",
      "at processTicksAndRejections (internal/process/task_queues.js:93:5)",
      "at async t.CellExecutionQueue.executeQueuedCells (c:\\Users\\tenol\\.vscode\\extensions\\ms-toolsai.jupyter-2021.8.1195043623\\out\\client\\extension.js:90:334803)",
      "at async t.CellExecutionQueue.start (c:\\Users\\tenol\\.vscode\\extensions\\ms-toolsai.jupyter-2021.8.1195043623\\out\\client\\extension.js:90:334343)"
     ]
    }
   ],
   "metadata": {}
  },
  {
   "cell_type": "code",
   "execution_count": null,
   "source": [
    "from tensorflow.keras.utils import plot_model\r\n",
    "plot_model(model,show_shapes=True)"
   ],
   "outputs": [],
   "metadata": {}
  }
 ],
 "metadata": {
  "orig_nbformat": 4,
  "language_info": {
   "name": "python",
   "version": "3.8.7",
   "mimetype": "text/x-python",
   "codemirror_mode": {
    "name": "ipython",
    "version": 3
   },
   "pygments_lexer": "ipython3",
   "nbconvert_exporter": "python",
   "file_extension": ".py"
  },
  "kernelspec": {
   "name": "python3",
   "display_name": "Python 3.8.7 64-bit"
  },
  "interpreter": {
   "hash": "1baa965d5efe3ac65b79dfc60c0d706280b1da80fedb7760faf2759126c4f253"
  }
 },
 "nbformat": 4,
 "nbformat_minor": 2
}