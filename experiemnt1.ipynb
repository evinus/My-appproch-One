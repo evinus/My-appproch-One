{
 "cells": [
  {
   "cell_type": "code",
   "execution_count": null,
   "source": [
    "import cv2\r\n",
    "bild = cv2.imread(\"data\\ped2//training//frames//01//000.jpg\")\r\n",
    "bild2 = cv2.imread(\"data\\ped2//training//frames//01//001.jpg\")\r\n",
    "import numpy as np\r\n",
    "\r\n",
    "lista = list()\r\n",
    "lista.append(bild)\r\n",
    "lista.append(bild2)\r\n",
    "\r\n",
    "lista = np.array(lista)"
   ],
   "outputs": [],
   "metadata": {}
  },
  {
   "cell_type": "code",
   "execution_count": null,
   "source": [
    "import cv2\r\n",
    "import os\r\n",
    "import numpy as np\r\n",
    "bilder = list()\r\n",
    "for folder in os.listdir(\"data//avenue//testing//frames\"):\r\n",
    "    path = os.path.join(\"data//avenue//testing//frames\",folder)\r\n",
    "    for img in os.listdir(path):\r\n",
    "        bild = os.path.join(path,img)\r\n",
    "        #bilder.append(cv2.imread(bild))\r\n",
    "        bilder.append(bild)\r\n",
    "\r\n",
    "#bilder = np.array(bilder)\r\n",
    "    "
   ],
   "outputs": [],
   "metadata": {}
  },
  {
   "cell_type": "code",
   "execution_count": null,
   "source": [
    "labels = np.load(\"data/frame_labels_ped2_2.npy\")\r\n",
    "#labels = np.reshape(labels,labels.shape[1])"
   ],
   "outputs": [],
   "metadata": {}
  },
  {
   "cell_type": "code",
   "execution_count": null,
   "source": [
    "import pandas as pd\r\n",
    "fjant = pd.DataFrame(data={\"x_col\":bilder,\"y_col\":labels})#columns=([\"x_col\",\"y_col\"]))\r\n",
    "fjant[\"y_col\"] = fjant[\"y_col\"].astype(str)"
   ],
   "outputs": [],
   "metadata": {}
  },
  {
   "cell_type": "code",
   "execution_count": null,
   "source": [
    "from keras_preprocessing.image import ImageDataGenerator\r\n",
    "\r\n",
    "dataget = ImageDataGenerator(rescale=1. / 255)\r\n",
    "train_get = dataget.flow_from_dataframe(dataframe=fjant,x_col=\"x_col\",y_col=\"y_col\",class_mode=\"sparse\",target_size=(360,240),batch_size=64)"
   ],
   "outputs": [],
   "metadata": {}
  },
  {
   "cell_type": "markdown",
   "source": [
    "__________________________"
   ],
   "metadata": {}
  },
  {
   "cell_type": "code",
   "execution_count": null,
   "source": [
    "import numpy as np\r\n",
    "labels = np.load(\"data/frame_labels_avenue.npy\")\r\n",
    "labels = np.reshape(labels,labels.shape[1])"
   ],
   "outputs": [],
   "metadata": {}
  },
  {
   "cell_type": "code",
   "execution_count": null,
   "source": [
    "noll = 0\r\n",
    "ett = 0\r\n",
    "for x in Y_test:\r\n",
    "    if x == 0:\r\n",
    "        noll += 1\r\n",
    "    else:\r\n",
    "        ett +=1\r\n",
    "print(\"Noll: \",noll)\r\n",
    "print(\"Ett: \",ett)"
   ],
   "outputs": [],
   "metadata": {}
  },
  {
   "cell_type": "code",
   "execution_count": null,
   "source": [
    "from sklearn.model_selection import train_test_split\r\n",
    "X_train, X_test, Y_train, Y_test = train_test_split(bilder,labels,test_size=0.2, random_state= 10)"
   ],
   "outputs": [],
   "metadata": {}
  },
  {
   "cell_type": "code",
   "execution_count": null,
   "source": [],
   "outputs": [],
   "metadata": {}
  },
  {
   "cell_type": "code",
   "execution_count": null,
   "source": [
    "#nylabels = np.concatenate((labels,nollor))\r\n",
    "np.save(\"data/frame_labels_ped2_2.npy\",nylabels)"
   ],
   "outputs": [],
   "metadata": {}
  },
  {
   "cell_type": "code",
   "execution_count": null,
   "source": [
    "bilder = bilder.reshape(bilder.shape[0],bilder.shape[1],bilder.shape[2],bilder.shape[3],1)"
   ],
   "outputs": [],
   "metadata": {}
  },
  {
   "cell_type": "code",
   "execution_count": null,
   "source": [
    "from sklearn.preprocessing import MinMaxScaler\r\n",
    "scaler = MinMaxScaler()\r\n",
    "bilder = scaler.fit_transform(bilder)"
   ],
   "outputs": [],
   "metadata": {}
  },
  {
   "cell_type": "code",
   "execution_count": null,
   "source": [
    "output = np.full((2550,1),0)"
   ],
   "outputs": [],
   "metadata": {}
  },
  {
   "cell_type": "code",
   "execution_count": null,
   "source": [
    "ett = bilder[0,:,:,:]"
   ],
   "outputs": [],
   "metadata": {}
  },
  {
   "cell_type": "code",
   "execution_count": null,
   "source": [
    "import tensorflow.keras as keras\r\n",
    "batch_size = 4\r\n",
    "model = keras.Sequential()\r\n",
    "inputs = keras.Input((240, 360, 3, 1))\r\n",
    "#model.add(keras.layers.Conv3D(input_shape = ,activation=\"relu\",filters=64,kernel_size=3,padding=\"same\"))\r\n",
    "model.add(keras.layers.Conv3D(activation=\"relu\",filters=64,kernel_size=3,padding=\"same\"))(inputs)\r\n",
    "model.add(keras.layers.MaxPooling3D(pool_size=(2,2,1)))\r\n",
    "model.add(keras.layers.BatchNormalization())\r\n",
    "\r\n",
    "model.add(keras.layers.Conv3D(activation=\"relu\",filters=64,kernel_size=3,padding=\"same\"))\r\n",
    "model.add(keras.layers.MaxPooling3D(pool_size=(2,2,1)))\r\n",
    "\r\n",
    "model.add(keras.layers.Conv3D(activation=\"relu\",filters=128,kernel_size=3,padding=\"same\"))\r\n",
    "model.add(keras.layers.MaxPooling3D(pool_size=(2,2,1)))\r\n",
    "\r\n",
    "model.add(keras.layers.Flatten())\r\n",
    "model.add(keras.layers.Dense(128,activation=\"relu\"))\r\n",
    "model.add(keras.layers.Dense(64,activation=\"relu\"))\r\n",
    "model.add(keras.layers.Dense(10,activation=\"relu\"))\r\n",
    "model.add(keras.layers.Dense(1,activation=\"sigmoid\"))\r\n",
    "\r\n",
    "model.compile(optimizer=\"adam\",metrics=keras.metrics.categorical_crossentropy)\r\n",
    "model.summary()"
   ],
   "outputs": [],
   "metadata": {}
  },
  {
   "cell_type": "code",
   "execution_count": null,
   "source": [
    "model = keras.Sequential()\r\n",
    "\r\n",
    "model.add(keras.layers.Conv3D(input_shape =(240, 360, 3, 1),activation=\"relu\",filters=64,kernel_size=3,padding=\"same\"))\r\n",
    "model.add(keras.layers.MaxPooling3D(pool_size=(2,2,1)))\r\n",
    "model.add(keras.layers.BatchNormalization())\r\n",
    "\r\n",
    "model.add(keras.layers.Conv3D(activation=\"relu\",filters=128,kernel_size=3,padding=\"same\"))\r\n",
    "model.add(keras.layers.MaxPooling3D(pool_size=(2,2,1)))\r\n",
    "\r\n",
    "model.add(keras.layers.Conv3D(activation=\"relu\",filters=128,kernel_size=2,padding=\"same\"))\r\n",
    "model.add(keras.layers.MaxPooling3D(pool_size=(2,2,1)))\r\n",
    "model.add(keras.layers.Dense(64,activation=\"relu\"))\r\n",
    "#model.add(keras.layers.GlobalAveragePooling3D())\r\n",
    "model.add(keras.layers.Flatten())\r\n",
    "model.add(keras.layers.Dense(256,activation=\"relu\"))\r\n",
    "model.add(keras.layers.Dense(64,activation=\"relu\"))\r\n",
    "model.add(keras.layers.Dense(10,activation=\"relu\"))\r\n",
    "model.add(keras.layers.Dense(1,activation=\"sigmoid\"))"
   ],
   "outputs": [],
   "metadata": {}
  },
  {
   "cell_type": "code",
   "execution_count": null,
   "source": [
    "from tensorflow.keras.layers import Dense,Conv3D,MaxPooling3D,BatchNormalization,Flatten,Input, Add\r\n",
    "from tensorflow.keras.models import Model\r\n",
    "input = Input((240,360,3,1))\r\n",
    "\r\n",
    "x = Conv3D(64,3,padding=\"same\")(input)\r\n",
    "x = MaxPooling3D(pool_size=(3,3,3))(x)\r\n",
    "x = Flatten()(x)\r\n",
    "x = Dense(128)(x)\r\n",
    "\r\n",
    "#y = Dense(128)(input)\r\n",
    "y = Flatten()(input)\r\n",
    "y = Dense(128)(y)\r\n",
    "y = Dense(128)(y)\r\n",
    "x = Add()([x,y])\r\n",
    "x = Dense(10)(x)\r\n",
    "x = Dense(1)(x)\r\n",
    "\r\n",
    "model = Model(inputs = input,outputs = x)\r\n",
    "model.compile()\r\n",
    "model.summary()\r\n",
    "from tensorflow.keras.utils import plot_model\r\n",
    "plot_model(model,show_shapes=True)\r\n"
   ],
   "outputs": [],
   "metadata": {}
  },
  {
   "cell_type": "code",
   "execution_count": null,
   "source": [
    "from tensorflow.keras.utils import plot_model\r\n",
    "plot_model(model,show_shapes=True)"
   ],
   "outputs": [],
   "metadata": {}
  },
  {
   "cell_type": "code",
   "execution_count": null,
   "source": [
    "with open('data//UCFCrime2Local//UCFCrime2Local//Train_split_AD.txt') as f:\r\n",
    "    lines = f.readlines()"
   ],
   "outputs": [],
   "metadata": {}
  },
  {
   "cell_type": "code",
   "execution_count": null,
   "source": [
    "import cv2 \r\n",
    "import numpy as np \r\n",
    "import os\r\n",
    "from pathlib import *\r\n",
    "\r\n",
    "path = \"data/UFC\"\r\n",
    "\r\n",
    "films = list()\r\n",
    "files = (x for x in Path(path).iterdir() if x.is_file())\r\n",
    "for file in files:\r\n",
    "    #print(str(file.name).split(\"_\")[0], \"is a file!\")\r\n",
    "    films.append(str(file.name).split(\"_\")[0])\r\n",
    "    "
   ],
   "outputs": [],
   "metadata": {}
  },
  {
   "cell_type": "code",
   "execution_count": null,
   "source": [
    "for x in range(len(lines)):\r\n",
    "    if lines[x].strip() != films[x]:\r\n",
    "        print(lines[x])\r\n",
    "        break"
   ],
   "outputs": [],
   "metadata": {}
  },
  {
   "cell_type": "code",
   "execution_count": 4,
   "source": [
    "import cv2 \r\n",
    "import numpy as np \r\n",
    "import os\r\n",
    "from pathlib import *\r\n",
    "\r\n",
    "path = \"data//UCFCrime2Local//UCFCrime2Local//Txt annotations\"\r\n",
    "\r\n",
    "files = (x for x in Path(path).iterdir() if x.is_file())\r\n",
    "for file in files:\r\n",
    "    films = list()\r\n",
    "    name = file.name.split(\".\")[0]\r\n",
    "    with open(file) as f:\r\n",
    "        lines = f.readlines()\r\n",
    "        for line in lines:\r\n",
    "            lost = int(line.split(\" \")[6])\r\n",
    "            if lost == 0:\r\n",
    "                lost = 1\r\n",
    "            else:\r\n",
    "                lost = 0\r\n",
    "            films.append(lost)\r\n",
    "        films = np.array(films)\r\n",
    "        np.save(os.path.join(\"data//UFC//training\",name + \".npy\"),films)\r\n",
    "        \r\n",
    "    #print(str(file.name).split(\"_\")[0], \"is a file!\")\r\n",
    "    #films.append(str(file.name).split(\" \")[6])"
   ],
   "outputs": [],
   "metadata": {}
  },
  {
   "cell_type": "code",
   "execution_count": 1,
   "source": [
    "import cv2 \r\n",
    "import numpy as np \r\n",
    "import os\r\n",
    "from pathlib import *\r\n",
    "\r\n",
    "file = \"data//UCFCrime2Local//UCFCrime2Local//Txt annotations//Burglary099.txt\"\r\n",
    "\r\n",
    "films = list()\r\n",
    "name = \"Burglary099\"\r\n",
    "with open(file) as f:\r\n",
    "    lines = f.readlines()\r\n",
    "    for line in lines:\r\n",
    "        lost = int(line.split(\" \")[6])\r\n",
    "        if lost == 0:\r\n",
    "            lost = 1\r\n",
    "        else:\r\n",
    "            lost = 0\r\n",
    "        films.append(lost)\r\n",
    "    films = np.array(films)\r\n",
    "    np.save(os.path.join(\"data//UFC//testing\",name + \".npy\"),films)"
   ],
   "outputs": [],
   "metadata": {}
  },
  {
   "cell_type": "code",
   "execution_count": 16,
   "source": [
    "import numpy as np\r\n",
    "assult = np.load(\"data//UFC//testing//NormalVideos004.npy\")"
   ],
   "outputs": [],
   "metadata": {}
  },
  {
   "cell_type": "code",
   "execution_count": 18,
   "source": [
    "sub = os.listdir(\"data//UFC//training//frames\")"
   ],
   "outputs": [],
   "metadata": {}
  },
  {
   "cell_type": "code",
   "execution_count": 1,
   "source": [
    "sub = os.listdir(\"data//UFC//testing//frames\")"
   ],
   "outputs": [],
   "metadata": {}
  },
  {
   "cell_type": "code",
   "execution_count": 20,
   "source": [
    "import numpy as np\r\n",
    "for name in sub:\r\n",
    "    if \"Normal\" in name:\r\n",
    "        files = os.listdir(os.path.join(\"data//UFC//training//frames\",name))\r\n",
    "        name = name.split(\"_\")[0:2]\r\n",
    "        name = name[0] + name[1]\r\n",
    "        tom = np.zeros((len(files),),np.int8)\r\n",
    "        np.save(os.path.join(\"data//UFC//training\",name),tom)\r\n",
    "        \r\n",
    "        "
   ],
   "outputs": [],
   "metadata": {}
  },
  {
   "cell_type": "code",
   "execution_count": null,
   "source": [],
   "outputs": [],
   "metadata": {}
  }
 ],
 "metadata": {
  "orig_nbformat": 4,
  "language_info": {
   "name": "python",
   "version": "3.8.7",
   "mimetype": "text/x-python",
   "codemirror_mode": {
    "name": "ipython",
    "version": 3
   },
   "pygments_lexer": "ipython3",
   "nbconvert_exporter": "python",
   "file_extension": ".py"
  },
  "kernelspec": {
   "name": "python3",
   "display_name": "Python 3.8.7 64-bit"
  },
  "interpreter": {
   "hash": "1baa965d5efe3ac65b79dfc60c0d706280b1da80fedb7760faf2759126c4f253"
  }
 },
 "nbformat": 4,
 "nbformat_minor": 2
}