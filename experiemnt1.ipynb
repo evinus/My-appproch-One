{
 "cells": [
  {
   "cell_type": "code",
   "execution_count": null,
   "source": [
    "import cv2\r\n",
    "bild = cv2.imread(\"data\\ped2//training//frames//01//000.jpg\")\r\n",
    "bild2 = cv2.imread(\"data\\ped2//training//frames//01//001.jpg\")\r\n",
    "import numpy as np\r\n",
    "\r\n",
    "lista = list()\r\n",
    "lista.append(bild)\r\n",
    "lista.append(bild2)\r\n",
    "\r\n",
    "lista = np.array(lista)"
   ],
   "outputs": [],
   "metadata": {}
  },
  {
   "cell_type": "code",
   "execution_count": null,
   "source": [
    "import cv2\r\n",
    "import os\r\n",
    "import numpy as np\r\n",
    "bilder = list()\r\n",
    "for folder in os.listdir(\"data\\ped2//training//frames\"):\r\n",
    "    path = os.path.join(\"data\\ped2//training//frames\",folder)\r\n",
    "    for img in os.listdir(path):\r\n",
    "        bild = os.path.join(path,img)\r\n",
    "        bilder.append(cv2.imread(bild))\r\n",
    "\r\n",
    "bilder = np.array(bilder)\r\n",
    "    "
   ],
   "outputs": [],
   "metadata": {}
  },
  {
   "cell_type": "code",
   "execution_count": null,
   "source": [
    "bilder = bilder.reshape(bilder.shape[0],bilder.shape[1],bilder.shape[2],bilder.shape[3],1)"
   ],
   "outputs": [],
   "metadata": {}
  },
  {
   "cell_type": "code",
   "execution_count": null,
   "source": [
    "from sklearn.preprocessing import MinMaxScaler\r\n",
    "scaler = MinMaxScaler()\r\n",
    "bilder = scaler.fit_transform(bilder)"
   ],
   "outputs": [],
   "metadata": {}
  },
  {
   "cell_type": "code",
   "execution_count": null,
   "source": [
    "output = np.full((2550,1),0)"
   ],
   "outputs": [],
   "metadata": {}
  },
  {
   "cell_type": "code",
   "execution_count": null,
   "source": [
    "ett = bilder[0,:,:,:]"
   ],
   "outputs": [],
   "metadata": {}
  },
  {
   "cell_type": "code",
   "execution_count": null,
   "source": [
    "import tensorflow.keras as keras\r\n",
    "batch_size = 4\r\n",
    "model = keras.Sequential()\r\n",
    "inputs = keras.Input((240, 360, 3, 1))\r\n",
    "#model.add(keras.layers.Conv3D(input_shape = ,activation=\"relu\",filters=64,kernel_size=3,padding=\"same\"))\r\n",
    "model.add(keras.layers.Conv3D(activation=\"relu\",filters=64,kernel_size=3,padding=\"same\"))(inputs)\r\n",
    "model.add(keras.layers.MaxPooling3D(pool_size=(2,2,1)))\r\n",
    "model.add(keras.layers.BatchNormalization())\r\n",
    "\r\n",
    "model.add(keras.layers.Conv3D(activation=\"relu\",filters=64,kernel_size=3,padding=\"same\"))\r\n",
    "model.add(keras.layers.MaxPooling3D(pool_size=(2,2,1)))\r\n",
    "\r\n",
    "model.add(keras.layers.Conv3D(activation=\"relu\",filters=128,kernel_size=3,padding=\"same\"))\r\n",
    "model.add(keras.layers.MaxPooling3D(pool_size=(2,2,1)))\r\n",
    "\r\n",
    "model.add(keras.layers.Flatten())\r\n",
    "model.add(keras.layers.Dense(128,activation=\"relu\"))\r\n",
    "model.add(keras.layers.Dense(64,activation=\"relu\"))\r\n",
    "model.add(keras.layers.Dense(10,activation=\"relu\"))\r\n",
    "model.add(keras.layers.Dense(1,activation=\"sigmoid\"))\r\n",
    "\r\n",
    "model.compile(optimizer=\"adam\",metrics=keras.metrics.categorical_crossentropy)\r\n",
    "model.summary()"
   ],
   "outputs": [],
   "metadata": {}
  },
  {
   "cell_type": "code",
   "execution_count": null,
   "source": [
    "import numpy as np\r\n",
    "labels = np.load(\"data/frame_labels_ped2.npy\")\r\n",
    "\r\n",
    "labels = np.reshape(labels,2010)"
   ],
   "outputs": [],
   "metadata": {}
  },
  {
   "cell_type": "code",
   "execution_count": null,
   "source": [
    "from tensorflow.keras.layers import Dense,Conv3D,MaxPooling3D,BatchNormalization,Flatten,Input, Add\r\n",
    "from tensorflow.keras.models import Model\r\n",
    "input = Input((240,360,3,1))\r\n",
    "\r\n",
    "x = Conv3D(64,3,padding=\"same\")(input)\r\n",
    "x = MaxPooling3D(pool_size=(3,3,3))(x)\r\n",
    "x = Flatten()(x)\r\n",
    "x = Dense(128)(x)\r\n",
    "\r\n",
    "#y = Dense(128)(input)\r\n",
    "y = Flatten()(input)\r\n",
    "y = Dense(128)(y)\r\n",
    "y = Dense(128)(y)\r\n",
    "x = Add()([x,y])\r\n",
    "x = Dense(10)(x)\r\n",
    "x = Dense(1)(x)\r\n",
    "\r\n",
    "model = Model(inputs = input,outputs = x)\r\n",
    "model.compile()\r\n",
    "model.summary()\r\n",
    "from tensorflow.keras.utils import plot_model\r\n",
    "plot_model(model,show_shapes=True)\r\n"
   ],
   "outputs": [
    {
     "output_type": "error",
     "ename": "Error",
     "evalue": "Session cannot generate requests",
     "traceback": [
      "Error: Session cannot generate requests",
      "at w.executeCodeCell (c:\\Users\\tenol\\.vscode\\extensions\\ms-toolsai.jupyter-2021.8.1195043623\\out\\client\\extension.js:90:325139)",
      "at w.execute (c:\\Users\\tenol\\.vscode\\extensions\\ms-toolsai.jupyter-2021.8.1195043623\\out\\client\\extension.js:90:324460)",
      "at w.start (c:\\Users\\tenol\\.vscode\\extensions\\ms-toolsai.jupyter-2021.8.1195043623\\out\\client\\extension.js:90:320276)",
      "at processTicksAndRejections (internal/process/task_queues.js:93:5)",
      "at async t.CellExecutionQueue.executeQueuedCells (c:\\Users\\tenol\\.vscode\\extensions\\ms-toolsai.jupyter-2021.8.1195043623\\out\\client\\extension.js:90:334803)",
      "at async t.CellExecutionQueue.start (c:\\Users\\tenol\\.vscode\\extensions\\ms-toolsai.jupyter-2021.8.1195043623\\out\\client\\extension.js:90:334343)"
     ]
    }
   ],
   "metadata": {}
  },
  {
   "cell_type": "code",
   "execution_count": null,
   "source": [
    "from tensorflow.keras.utils import plot_model\r\n",
    "plot_model(model,show_shapes=True)"
   ],
   "outputs": [],
   "metadata": {}
  }
 ],
 "metadata": {
  "orig_nbformat": 4,
  "language_info": {
   "name": "python",
   "version": "3.8.7",
   "mimetype": "text/x-python",
   "codemirror_mode": {
    "name": "ipython",
    "version": 3
   },
   "pygments_lexer": "ipython3",
   "nbconvert_exporter": "python",
   "file_extension": ".py"
  },
  "kernelspec": {
   "name": "python3",
   "display_name": "Python 3.8.7 64-bit"
  },
  "interpreter": {
   "hash": "1baa965d5efe3ac65b79dfc60c0d706280b1da80fedb7760faf2759126c4f253"
  }
 },
 "nbformat": 4,
 "nbformat_minor": 2
}